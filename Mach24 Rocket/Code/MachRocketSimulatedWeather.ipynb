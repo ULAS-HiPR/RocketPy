{
  "cells": [
    {
      "cell_type": "markdown",
      "metadata": {
        "id": "nvAT8wcRNVEk"
      },
      "source": [
        "# Sample Simulation\n"
      ]
    },
    {
      "cell_type": "markdown",
      "source": [
        "## Setup"
      ],
      "metadata": {
        "id": "j2WBkzn8bu1c"
      }
    },
    {
      "cell_type": "code",
      "execution_count": null,
      "metadata": {
        "id": "zwDDabtpNc6Z"
      },
      "outputs": [],
      "source": [
        "# Install the RocketPy package using pip\n",
        "!pip install rocketpy"
      ]
    },
    {
      "cell_type": "code",
      "execution_count": null,
      "metadata": {
        "id": "XGK9M8ecNVEp"
      },
      "outputs": [],
      "source": [
        "# Import necessary classes from the RocketPy library\n",
        "\n",
        "# Environment: Represents the atmospheric and environmental conditions during flight\n",
        "# SolidMotor: Represents a solid rocket motor with specified characteristics\n",
        "# Rocket: Represents a rocket with specified design parameters and components\n",
        "# Flight: Represents a flight simulation of a rocket in a given environment and with specified motor and rocket configurations\n",
        "\n",
        "from rocketpy import Environment, SolidMotor, Rocket, Flight\n"
      ]
    },
    {
      "cell_type": "code",
      "execution_count": null,
      "metadata": {
        "id": "uRa566HoNVE9"
      },
      "outputs": [],
      "source": [
        "# Used for tidying up the outputted data - not critical for operations\n",
        "\n",
        "# Configure the InlineBackend to display SVG figures\n",
        "%config InlineBackend.figure_formats = ['svg']\n",
        "\n",
        "# Ensure that matplotlib plots are displayed inline in the Jupyter Notebook\n",
        "%matplotlib inline\n"
      ]
    },
    {
      "cell_type": "markdown",
      "metadata": {
        "id": "sSeqramENVFB"
      },
      "source": [
        "## Setting Up a Simulation\n"
      ]
    },
    {
      "cell_type": "markdown",
      "metadata": {
        "id": "Vm4ZHAnnNVFC"
      },
      "source": [
        "### Creating an Environment\n"
      ]
    },
    {
      "cell_type": "code",
      "execution_count": null,
      "metadata": {
        "id": "d7mooAZONVFD"
      },
      "outputs": [],
      "source": [
        "# Create an Environment object representing the atmospheric and environmental conditions during flight\n",
        "env = Environment(latitude=55.43753666449806, longitude=-5.687982477918211, elevation=13)\n"
      ]
    },
    {
      "cell_type": "code",
      "execution_count": null,
      "metadata": {
        "id": "5kl-Je8dNVFI"
      },
      "outputs": [],
      "source": [
        "import datetime\n",
        "\n",
        "# Get the date of tomorrow\n",
        "# Can be any day, just change the 'days' variable equal to the unmber of days between today and the day you want\n",
        "tomorrow = datetime.date.today() + datetime.timedelta(days=1)\n",
        "\n",
        "# Set the date and time in the Environment object, with the hour given in UTC time\n",
        "env.set_date((tomorrow.year, tomorrow.month, tomorrow.day, 12))\n"
      ]
    },
    {
      "cell_type": "code",
      "execution_count": null,
      "metadata": {
        "id": "g73fa7DWNVFN"
      },
      "outputs": [],
      "source": [
        "# Set the atmospheric model type to \"Forecast\" and specify the file for the Global Forecast System (GFS)\n",
        "env.set_atmospheric_model(\n",
        "    type=\"custom_atmosphere\",\n",
        "\n",
        "    # Leaving the pressure field as None means we want the International Standard Atmosphere’s pressure profile to be used\n",
        "    pressure = None,\n",
        "\n",
        "    # The same is done with temperature set to None\n",
        "    # The temperature field can be set as a constant K profile (example: 300)\n",
        "    temperature = None,\n",
        "\n",
        "    # Wind Speed East\n",
        "    # an array containing values (x, y) where x = altitude (m) & y = windspeed (m/s)\n",
        "    # positve y = East and negative y = West\n",
        "    wind_u = [(0, 5.36)],\n",
        "\n",
        "    # Wind Speed North\n",
        "    # an array containing values (x, y) where x = altitude (m) & y = windspeed (m/s)\n",
        "    # positive y = North and negative y = South\n",
        "    wind_v = [(0, -2)],\n",
        "    )\n"
      ]
    },
    {
      "cell_type": "code",
      "execution_count": null,
      "metadata": {
        "id": "H_AMjVTjNVFT"
      },
      "outputs": [],
      "source": [
        "# Retrieve all information about the Environment object\n",
        "env.all_info()\n"
      ]
    },
    {
      "cell_type": "markdown",
      "metadata": {
        "id": "Aksbs-pMNVFW"
      },
      "source": [
        "### Creating a Motor\n",
        "\n",
        "\n"
      ]
    },
    {
      "cell_type": "code",
      "execution_count": null,
      "metadata": {
        "id": "Vx1dZObwNVFX"
      },
      "outputs": [],
      "source": [
        "# Define a SolidMotor object with specific parameters\n",
        "PRO75L645 = SolidMotor(\n",
        "    # Correct\n",
        "    thrust_source=\"Cesaroni_3419L645-P.eng\", # Specify the .eng file containing thrust data\n",
        "    # Correct\n",
        "    dry_mass=1.607, # Dry mass of the motor in kilograms\n",
        "    # Assumption - Sean Reynolds Number\n",
        "    dry_inertia=(0.039, 0.039, 0.0015), # Dry mass moments of inertia in kg*m^2\n",
        "    # Assumption\n",
        "    nozzle_radius = 37.5 / 1000, # Radius of the nozzle exit in meters\n",
        "    # Correct\n",
        "    grain_number=3, # Number of propellant grains\n",
        "    # Assumption - Sean Bourke\n",
        "    grain_density=1815, # Density of the propellant in kg/m^3\n",
        "    # Assumption\n",
        "    grain_outer_radius = 37.5 / 1000, # Outer radius of the propellant grains in meters (37.5)\n",
        "    # Assumption\n",
        "    grain_initial_inner_radius=29 / 1000, # Initial inner radius of the propellant grains in meters\n",
        "    # Assumption - prolly important\n",
        "    grain_initial_height=157 / 1000, # Initial height of the propellant grains in meters\n",
        "    # Assumption - prolly important\n",
        "    grain_separation=5 / 1000, # Separation between propellant grains in meters\n",
        "    #Assumption - prolly important\n",
        "    grains_center_of_mass_position=0.343, # Position of the center of mass of the propellant grains\n",
        "    # Assumption\n",
        "    center_of_dry_mass_position=0.231, # Position of the center of mass of the dry motor\n",
        "    # Correct\n",
        "    nozzle_position = 0.0, # Position of the nozzle relative to the combustion chamber\n",
        "    # Correct\n",
        "    burn_time=5.3, # Burn time of the motor in seconds\n",
        "\n",
        "    throat_radius=12.5 / 1000, # Radius of the motor throat in meters\n",
        "    # Known\n",
        "    coordinate_system_orientation=\"nozzle_to_combustion_chamber\" # Orientation of the coordinate system -> EXTREMLY IMPORTANT\n",
        ")\n"
      ]
    },
    {
      "cell_type": "code",
      "execution_count": null,
      "metadata": {
        "id": "vjyPT7GVNVFb"
      },
      "outputs": [],
      "source": [
        "# Retrieve all information about the SolidMotor object\n",
        "PRO75L645.all_info()\n"
      ]
    },
    {
      "cell_type": "markdown",
      "metadata": {
        "id": "kN7y1EwLNVFf"
      },
      "source": [
        "### Creating a Rocket\n"
      ]
    },
    {
      "cell_type": "code",
      "execution_count": null,
      "metadata": {
        "id": "D1fyK8u_NVFh"
      },
      "outputs": [],
      "source": [
        "# Define a Rocket object with specific parameters\n",
        "rocket = Rocket(\n",
        "    radius=106 / 2000, # Radius of the rocket body in meters\n",
        "    mass=5.544, # Total mass of the rocket in kilogr...ams\n",
        "    # These need to be checked\n",
        "    inertia=(3.8 , 3.8, 0.01), # Moments of inertia of the rocket in kg*m^2\n",
        "\n",
        "    power_off_drag = \"DragOffCSV.csv\", # .csv file containing power-off drag curve data\n",
        "\n",
        "    power_on_drag = \"DragOnCSV.csv\", # .csv file containing power-on drag curve data\n",
        "\n",
        "    center_of_mass_without_motor=87.1 / 100, # Position of the center of mass of the rocket without the motor\n",
        "\n",
        "    coordinate_system_orientation=\"tail_to_nose\" # Orientation of the coordinate system -> EXTREMLY IMPORTANT -> MUST be relative to the coordinate system defined in the motor\n",
        ")\n",
        "\n",
        "# Set the rail buttons for the rocket\n",
        "rail_buttons = rocket.set_rail_buttons(\n",
        "    upper_button_position=0.618, # Position of the upper rail button relative to the rocket nose\n",
        "    lower_button_position=0.230, # Position of the lower rail button relative to the rocket nose\n",
        "    angular_position=45, # Angular position of the rail buttons in degrees\n",
        ")\n"
      ]
    },
    {
      "cell_type": "code",
      "execution_count": null,
      "metadata": {
        "id": "k7ryRNfiOWmg"
      },
      "outputs": [],
      "source": [
        "# Add the motor object to the rocket object at a specific position\n",
        "# Said position is EXTREMLY IMPORTANT\n",
        "rocket.add_motor(PRO75L645, position=0)\n"
      ]
    },
    {
      "cell_type": "markdown",
      "metadata": {
        "id": "CfOfqmroNVFk"
      },
      "source": [
        "### Adding Aerodynamic Surfaces\n"
      ]
    },
    {
      "cell_type": "code",
      "execution_count": null,
      "metadata": {
        "id": "AQbv244VNVFm"
      },
      "outputs": [],
      "source": [
        "# Add a nose cone to the rocket object with specific parameters\n",
        "nose_cone = rocket.add_nose(length=0.410, kind=\"vonKarman\", position=1.815)\n",
        "\n",
        "# Add trapezoidal fins to the rocket with specific parameters\n",
        "fin_set = rocket.add_trapezoidal_fins(\n",
        "    n=3, # Number of fins\n",
        "    root_chord=0.25, # Root chord length of the fins in meters\n",
        "    tip_chord=0.112, # Tip chord length of the fins in meters\n",
        "    span=0.152, # Span of the fins in meters\n",
        "    position=0.345, # Position of the fins relative to the rocket nose\n",
        "    cant_angle=0, # Cant angle of the fins in radians\n",
        "    # airfoil=(\"AirfoilDegreesCSV.csv\", \"degrees\"), # Airfoil profile of the fins -> .csv file and declare your unit of measurment (radians OR degrees)\n",
        ")\n",
        "\n",
        "# Add a tail to the rocket object with specific parameters\n",
        "tail = rocket.add_tail(\n",
        "    top_radius = 106 / 2000, # Top radius of the tail in meters\n",
        "    bottom_radius=0.04, # Bottom radius of the tail in meters\n",
        "    length=0.08, # Length of the tail in meters\n",
        "    position=0.08 # Position of the tail relative to the rocket nose\n",
        ")\n"
      ]
    },
    {
      "cell_type": "code",
      "execution_count": null,
      "metadata": {
        "id": "aWi9r4s5OWmh"
      },
      "outputs": [],
      "source": [
        "# Retrieve all information about the Rocket object\n",
        "rocket.all_info()\n"
      ]
    },
    {
      "cell_type": "markdown",
      "metadata": {
        "id": "D8oKc7s2NVFp"
      },
      "source": [
        "### Adding Parachutes\n"
      ]
    },
    {
      "cell_type": "code",
      "execution_count": null,
      "metadata": {
        "id": "f0PmLcF8NVFr"
      },
      "outputs": [],
      "source": [
        "# Add a main parachute to the rocket with specific parameters\n",
        "Main = rocket.add_parachute(\n",
        "    \"Main\", # Name of the parachute\n",
        "    cd_s = 1.0, # Drag coefficient of the parachute in m^2\n",
        "    trigger = 200, # Trigger for parachute deployment can be EITHER an altitude in meters OR an event\n",
        "    sampling_rate = 105, # Sampling rate for parachute simulation\n",
        "    lag = 1.5, # Lag time for parachute deployment in seconds\n",
        "    noise = (0, 8.3, 0.5), # Noise parameters for parachute simulation\n",
        ")\n",
        "\n",
        "# Add a drogue parachute to the rocket with specific parameters\n",
        "Drogue = rocket.add_parachute(\n",
        "    \"Drogue\", # Name of the parachute\n",
        "    cd_s = 0.313, # Drag coefficient of the parachute in m^2\n",
        "    trigger = \"apogee\", # Trigger for parachute deployment can be EITHER an altitude in meters OR an event\n",
        "    sampling_rate = 105, # Sampling rate for parachute simulation\n",
        "    lag = 1.5, # Lag time for parachute deployment in seconds\n",
        "    noise = (0, 8.3, 0.5), # Noise parameters for parachute simulation\n",
        ")\n"
      ]
    },
    {
      "cell_type": "markdown",
      "metadata": {
        "id": "4PR0fgSbNVFw"
      },
      "source": [
        "## Simulating a Flight\n"
      ]
    },
    {
      "cell_type": "code",
      "execution_count": null,
      "metadata": {
        "id": "v__Ud2p2NVFx"
      },
      "outputs": [],
      "source": [
        "# Create a Flight object named test_flight with specific parameters\n",
        "test_flight = Flight(\n",
        "    rocket=rocket, # Rocket object representing the rocket to be simulated\n",
        "    environment=env, # Environment object representing the atmospheric and environmental conditions\n",
        "    rail_length=4, # Length of the launch rail in meters\n",
        "    inclination=85, # Inclination angle of the launch rail in degrees\n",
        "    heading = 106 # Heading angle of the launch rail in degrees\n",
        ")\n"
      ]
    },
    {
      "cell_type": "markdown",
      "metadata": {
        "id": "8SjrGQqzNVF0"
      },
      "source": [
        "## Analyzing the Results\n"
      ]
    },
    {
      "cell_type": "code",
      "execution_count": null,
      "metadata": {
        "id": "Hh4A_RQzNVF0",
        "scrolled": false
      },
      "outputs": [],
      "source": [
        "# Retrieve all information about the test_flight Flight object\n",
        "test_flight.all_info()\n"
      ]
    },
    {
      "cell_type": "code",
      "execution_count": null,
      "metadata": {
        "id": "uQGkOzZvOWml"
      },
      "outputs": [],
      "source": [
        "from google.colab import files\n",
        "\n",
        "# Export the trajectory of the test_flight to a KML file\n",
        "test_flight.export_kml(\n",
        "    file_name=\"Trajectory.kml\", # Specify the file name\n",
        "    extrude=True, # Enable extrusion for 3D visualization\n",
        "    altitude_mode=\"relative_to_ground\", # Specify the altitude mode\n",
        ")\n",
        "\n",
        "# Download the KML file for use in Google Earth\n",
        "files.download('Trajectory.kml')\n"
      ]
    }
  ],
  "metadata": {
    "colab": {
      "provenance": []
    },
    "hide_input": false,
    "kernelspec": {
      "display_name": "Python 3.10.0 ('rocketpy_dev')",
      "language": "python",
      "name": "python3"
    },
    "language_info": {
      "codemirror_mode": {
        "name": "ipython",
        "version": 3
      },
      "file_extension": ".py",
      "mimetype": "text/x-python",
      "name": "python",
      "nbconvert_exporter": "python",
      "pygments_lexer": "ipython3",
      "version": "3.10.5"
    },
    "vscode": {
      "interpreter": {
        "hash": "18e93d5347af13ace37d47ea4e2a2ad720f0331bd9cb28f9983f5585f4dfaa5c"
      }
    }
  },
  "nbformat": 4,
  "nbformat_minor": 0
}